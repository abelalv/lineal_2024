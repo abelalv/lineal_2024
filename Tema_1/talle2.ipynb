{
 "cells": [
  {
   "cell_type": "markdown",
   "metadata": {},
   "source": [
    "## Taller de Algebra lineal \n",
    "\n"
   ]
  },
  {
   "cell_type": "markdown",
   "metadata": {},
   "source": [
    "1. Sea la matriz $A$ dada por:\n",
    "\n",
    "$$A=\\begin{bmatrix} 1 & 2 & 3 \\\\ 4 & 5 & 6 \\\\ 7 & 8 & 9 \\end{bmatrix}$$\n",
    "\n",
    "calcular:\n",
    "\n",
    "+  $A^T$\n",
    "+  $A^2$\n",
    "+  $3A-2A$"
   ]
  },
  {
   "cell_type": "markdown",
   "metadata": {},
   "source": [
    "2. Construir una matriz $A$ y $B$ de $3 \\times 3$ tal que:\n",
    "\n",
    "$$a_{ij}=i+j$$\n",
    "\n",
    "$$b_{ij}=(i-j)^2$$\n",
    "\n",
    "calcular:\n",
    "\n",
    "* $A+B$\n",
    "\n",
    "* $A-B$\n",
    "\n",
    "* $AB$ \n",
    "\n",
    "* $BA$\n"
   ]
  },
  {
   "cell_type": "markdown",
   "metadata": {},
   "source": [
    "3. Solucionar los siguientes sistemas de ecuaciones lineales:\n",
    "\n",
    "* $\\begin{cases}\n",
    "x+2y=3\\\\\n",
    "2x+3y-z=4\\\\\n",
    "3x+4y-2z=0\n",
    "\\end{cases}$\n",
    "\n",
    "* $\\begin{cases}\n",
    "x+y+z+w=0\\\\\n",
    "x-y+z-w=1\\\\\n",
    "x+y-z+w=0\\\\\n",
    "x-y-z-w=-1\n",
    "\\end{cases}$\n",
    "\n",
    "* $\\begin{cases}\n",
    "x+y+z+w+v=1\\\\\n",
    "x+w=1\\\\\n",
    "y-z+v=0\\\\\n",
    "z+v=0\\\\\n",
    "x-y-w+v=2\n",
    "\\end{cases}$\n",
    "\n",
    "\n"
   ]
  },
  {
   "cell_type": "markdown",
   "metadata": {},
   "source": [
    "4. Construya un ejemplo de un sistema $3\\times 3$ que tenga solución única, infinitas soluciones y sin solución. Justifique su respuesta."
   ]
  },
  {
   "cell_type": "markdown",
   "metadata": {},
   "source": [
    "5. Sea la matriz $B$ dada por:\n",
    "\n",
    "$$B=\\begin{bmatrix} 1 & -1 & 0 \\\\ 1 & 0 & -1 \\\\ 2 & 1 & 0 \\end{bmatrix}$$\n",
    "\n",
    "\n",
    "calcular:\n",
    "\n",
    "+  Encontrar una matriz $X$ tal que $BX=I$, donde $I$ es la matriz identidad.\n",
    "\n",
    "**Indicación** Cree un sistema de ecuaciones lineales de la forma $BX=I$ y resuelvalo.\n",
    "\n"
   ]
  }
 ],
 "metadata": {
  "language_info": {
   "name": "python"
  }
 },
 "nbformat": 4,
 "nbformat_minor": 2
}
