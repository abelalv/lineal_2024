{
 "cells": [
  {
   "cell_type": "markdown",
   "metadata": {},
   "source": [
    "**Pontificia Universidad Javeriana Cali**\n",
    "\n",
    "**Departamento de Ciencias Básicas y  Matemáticas**\n",
    "\n",
    "**Materia: Algebra Lineal**\n"
   ]
  },
  {
   "cell_type": "markdown",
   "metadata": {},
   "source": [
    "**Nombre:**\n",
    "\n",
    "**Documento:**"
   ]
  },
  {
   "cell_type": "markdown",
   "metadata": {},
   "source": [
    "1. Sea el siguiente sistema de ecuaciones,\n",
    "\n",
    "$$\\begin{cases}2x+z=0\\\\\n",
    "y+z=1\\\\\n",
    "x+y+\\alpha z=-1\\end{cases}$$\n",
    "\n",
    "\n",
    "Encuentre un $\\alpha$ para que el sistema \n",
    "\n",
    "+ Sea inconsistente\n",
    "\n",
    "+ Tenga una única solución\n"
   ]
  },
  {
   "cell_type": "markdown",
   "metadata": {},
   "source": [
    "2. Encuentre el determinante de \n",
    "\n",
    "$$\\begin{bmatrix}0&-2&0&0&0\\\\\n",
    "0&1&1&-1&-1\\\\\n",
    "1&1&0&2&0\\\\ 0&0&-1&2&1\\\\1&0&-1&0&1\\end{bmatrix}$$\n"
   ]
  },
  {
   "cell_type": "markdown",
   "metadata": {},
   "source": [
    "3. Determine si es falsa o verdadera la siguientes afirmaciones, en caso que sea falsa, corrijala o de un ejemplo. En caso que sea verdadera, demuestre o justifique porque es verdadera.\n",
    "\n",
    "\n",
    "- Si $A$ es una matriz cuadrada y su determinante es cero, entonces $A$ tiene inversa.\n",
    "\n",
    "- Si el sistema \n",
    "\n",
    "$$Ax=b$$\n",
    "\n",
    "tiene solución única, entonces $x$ se puede escribir como $x=A^{-1}b$.\n",
    "\n",
    "- Sea el sistema \n",
    "\n",
    "$$\\begin{cases}2x+y=1\\\\\n",
    "x+3y=-2\\end{cases}$$\n",
    "\n",
    "entonces se puede decir que el vector \n",
    "\n",
    "$$\\begin{bmatrix}1\\\\-1\\end{bmatrix}$$ \n",
    "\n",
    "se puede escribir como combinación lineal de las columnas de la matriz de coeficientes del sistema."
   ]
  }
 ],
 "metadata": {
  "kernelspec": {
   "display_name": "Python 3 (ipykernel)",
   "language": "python",
   "name": "python3"
  },
  "language_info": {
   "codemirror_mode": {
    "name": "ipython",
    "version": 3
   },
   "file_extension": ".py",
   "mimetype": "text/x-python",
   "name": "python",
   "nbconvert_exporter": "python",
   "pygments_lexer": "ipython3",
   "version": "3.12.3"
  }
 },
 "nbformat": 4,
 "nbformat_minor": 4
}
