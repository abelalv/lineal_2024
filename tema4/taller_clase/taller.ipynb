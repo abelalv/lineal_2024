{
 "cells": [
  {
   "cell_type": "markdown",
   "metadata": {},
   "source": [
    "Solucionemos el sistema de ecuaciones lineales:\n",
    "\n",
    "$$Ax = b$$\n",
    "\n",
    "donde \n",
    "\n",
    "$$A=\\begin{bmatrix} 2 & 1 & -1 \\\\ -3 & -1 & 2 \\\\ -2 & 1 & 2 \\end{bmatrix}$$\n",
    "\n",
    "y \n",
    "\n",
    "$$b=\\begin{bmatrix} 8 \\\\ -11 \\\\ -3 \\end{bmatrix}$$"
   ]
  },
  {
   "cell_type": "markdown",
   "metadata": {},
   "source": []
  },
  {
   "cell_type": "code",
   "execution_count": null,
   "metadata": {},
   "outputs": [],
   "source": [
    "import numpy as np\n",
    "\n",
    "# Definir la matriz de coeficientes A\n",
    "A = np.array([[2, 1, -1],\n",
    "              [-3, -1, 2],\n",
    "              [-2, 1, 2]])\n",
    "\n",
    "# Definir el vector de términos independientes B\n",
    "B = np.array([8, -11, -3])\n",
    "\n",
    "# Resolver el sistema de ecuaciones lineales\n",
    "x = np.linalg.solve(A, B)\n",
    "\n",
    "# Mostrar el resultado\n",
    "print(\"La solución del sistema es:\", x)"
   ]
  },
  {
   "cell_type": "markdown",
   "metadata": {},
   "source": [
    "Note que para transponer una matriz en Python, se puede usar el método `transpose()` o el atributo `T`.\n",
    "\n",
    "\n",
    "```python\n",
    "import numpy as np\n",
    "\n",
    "A = np.array([[2, 1, -1], [-3, -1, 2], [-2, 1, 2]])\n",
    "\n",
    "A_transpuesta = A.T\n",
    "print(A)\n",
    "```\n"
   ]
  },
  {
   "cell_type": "markdown",
   "metadata": {},
   "source": [
    "## Solución de minimos cuadrados\n",
    "\n",
    "Estos datos se ajustan con el polinomio \n",
    "\n",
    "$$y = a_0 + a_1x + a_2x^2$$\n",
    "\n",
    "\n",
    "- Ecuentre los coeficientes $a_0$, $a_1$ y $a_2$ que minimizan la suma de los cuadrados de las diferencias entre los valores ajustados y los valores reales de $y$."
   ]
  },
  {
   "cell_type": "code",
   "execution_count": 2,
   "metadata": {},
   "outputs": [
    {
     "data": {
      "image/png": "[encoded data removed]",
      "text/plain": [
       "<Figure size 640x480 with 1 Axes>"
      ]
     },
     "metadata": {},
     "output_type": "display_data"
    }
   ],
   "source": [
    "import numpy as np\n",
    "import matplotlib.pyplot as plt\n",
    "\n",
    "# Definir los datos de x e y\n",
    "x = np.array([1, 2, 3, 4, 5, 6, 7])\n",
    "y = np.array([6.7, 7.5, 10.1, 12.3, 14.8, 17.9, 21.5])\n",
    "\n",
    "# Predicción para los valores de x\n",
    "y_pred = a * x**2 + b * x + c\n",
    "\n",
    "# Graficar los puntos originales y la curva ajustada\n",
    "plt.scatter(x, y, color='red', label='Datos originales')\n",
    "plt.legend()\n",
    "plt.show()\n"
   ]
  }
 ],
 "metadata": {
  "kernelspec": {
   "display_name": "Python 3",
   "language": "python",
   "name": "python3"
  },
  "language_info": {
   "codemirror_mode": {
    "name": "ipython",
    "version": 3
   },
   "file_extension": ".py",
   "mimetype": "text/x-python",
   "name": "python",
   "nbconvert_exporter": "python",
   "pygments_lexer": "ipython3",
   "version": "3.12.3"
  }
 },
 "nbformat": 4,
 "nbformat_minor": 2
}
