{
 "cells": [
  {
   "cell_type": "code",
   "execution_count": 1,
   "metadata": {},
   "outputs": [
    {
     "name": "stdout",
     "output_type": "stream",
     "text": [
      "x= [1.  2.5 3.  4.  5. ]\n"
     ]
    }
   ],
   "source": [
    "import numpy as np\n",
    "import matplotlib.pyplot as plt\n",
    "# coo escribir unvector con numpy\n",
    "x=np.array([1,2.5,3,4,5])\n",
    "\n",
    "print(\"x=\",x)"
   ]
  },
  {
   "cell_type": "code",
   "execution_count": 2,
   "metadata": {},
   "outputs": [
    {
     "name": "stdout",
     "output_type": "stream",
     "text": [
      "A= [[1 2 3]\n",
      " [4 5 6]\n",
      " [7 8 9]]\n"
     ]
    }
   ],
   "source": [
    "# COMO ESCRIBIR UNA MATRIZ\n",
    "A=np.array([[1,2,3],[4,5,6],[7,8,9]])\n",
    "\n",
    "print(\"A=\",A)"
   ]
  },
  {
   "cell_type": "code",
   "execution_count": null,
   "metadata": {},
   "outputs": [],
   "source": [
    "# SUMA DE MATRICES\n",
    "A=np.array([[1,2,3],[4,5,6],[7,8,9]])\n",
    "B=np.array([[1,1,1],[2,2,2],[3,3,3]])\n",
    "\n",
    "C=A+B\n",
    "print(\"C=\",C)"
   ]
  },
  {
   "cell_type": "code",
   "execution_count": null,
   "metadata": {},
   "outputs": [],
   "source": [
    "# multiplicaicon por escarlar\n",
    "\n",
    "A=np.array([[1,2,3],[4,5,6],[7,8,9]])\n",
    "B=2*A\n",
    "print(\"B=\",B)"
   ]
  },
  {
   "cell_type": "code",
   "execution_count": 3,
   "metadata": {},
   "outputs": [
    {
     "name": "stdout",
     "output_type": "stream",
     "text": [
      "z= 32\n",
      "C= [[14 14 14]\n",
      " [32 32 32]\n",
      " [50 50 50]]\n",
      "C= [[14 14 14]\n",
      " [32 32 32]\n",
      " [50 50 50]]\n",
      "C= [[14 14 14]\n",
      " [32 32 32]\n",
      " [50 50 50]]\n"
     ]
    }
   ],
   "source": [
    "# multiplicacion de vectores\n",
    "\n",
    "x=np.array([1,2,3])\n",
    "y=np.array([4,5,6])\n",
    "\n",
    "z=np.dot(x,y)\n",
    "\n",
    "print(\"z=\",z)\n",
    "\n",
    "# multiplicacion de matrices    \n",
    "\n",
    "A=np.array([[1,2,3],[4,5,6],[7,8,9]])\n",
    "B=np.array([[1,1,1],[2,2,2],[3,3,3]])\n",
    "\n",
    "C=np.dot(A,B)\n",
    "print(\"C=\",C)\n",
    "\n",
    "#otra forma \n",
    "\n",
    "C=A.dot(B)\n",
    "print(\"C=\",C)\n",
    "# otra forma de multiplicar matrices\n",
    "\n",
    "C=A@B\n",
    "\n",
    "print(\"C=\",C)"
   ]
  },
  {
   "cell_type": "code",
   "execution_count": 5,
   "metadata": {},
   "outputs": [
    {
     "name": "stdout",
     "output_type": "stream",
     "text": [
      "B= [[1 4 7]\n",
      " [2 5 8]\n",
      " [3 6 9]]\n",
      "B= [[1 4 7]\n",
      " [2 5 8]\n",
      " [3 6 9]]\n"
     ]
    }
   ],
   "source": [
    "# trnaspuesta de una matriz\n",
    "\n",
    "A=np.array([[1,2,3],[4,5,6],[7,8,9]])\n",
    "\n",
    "B=A.T\n",
    "print(\"B=\",B)\n",
    "\n",
    "# otra forma\n",
    "B=A.transpose()\n",
    "\n",
    "print(\"B=\",B)"
   ]
  }
 ],
 "metadata": {
  "kernelspec": {
   "display_name": "Python 3",
   "language": "python",
   "name": "python3"
  },
  "language_info": {
   "codemirror_mode": {
    "name": "ipython",
    "version": 3
   },
   "file_extension": ".py",
   "mimetype": "text/x-python",
   "name": "python",
   "nbconvert_exporter": "python",
   "pygments_lexer": "ipython3",
   "version": "3.12.3"
  }
 },
 "nbformat": 4,
 "nbformat_minor": 2
}
