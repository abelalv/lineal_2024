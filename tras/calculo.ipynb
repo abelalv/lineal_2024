{
 "cells": [
  {
   "cell_type": "code",
   "execution_count": 1,
   "metadata": {},
   "outputs": [],
   "source": [
    "import numpy as np\n",
    "\n",
    "A=np.array([[2,1,1],[0,2,1],[1,0,1]])\n",
    "\n",
    "W=np.array([[6,4,5],[3,-1,5],[3,3,2]])\n",
    "\n",
    "A_inv = np.linalg.inv(A)\n",
    "T=A_inv@W"
   ]
  },
  {
   "cell_type": "code",
   "execution_count": 3,
   "metadata": {},
   "outputs": [
    {
     "data": {
      "text/plain": [
       "array([[3.00000000e+00],\n",
       "       [9.99200722e-16],\n",
       "       [1.33226763e-15]])"
      ]
     },
     "execution_count": 3,
     "metadata": {},
     "output_type": "execute_result"
    }
   ],
   "source": [
    "w_1=np.array([[6],[3],[3]])\n",
    "\n",
    "\n",
    "x=np.linalg.solve(T,w_1)\n",
    "x"
   ]
  }
 ],
 "metadata": {
  "kernelspec": {
   "display_name": "class",
   "language": "python",
   "name": "python3"
  },
  "language_info": {
   "codemirror_mode": {
    "name": "ipython",
    "version": 3
   },
   "file_extension": ".py",
   "mimetype": "text/x-python",
   "name": "python",
   "nbconvert_exporter": "python",
   "pygments_lexer": "ipython3",
   "version": "3.12.3"
  }
 },
 "nbformat": 4,
 "nbformat_minor": 2
}
